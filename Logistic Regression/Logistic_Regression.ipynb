{
 "cells": [
  {
   "cell_type": "code",
   "execution_count": 1,
   "metadata": {},
   "outputs": [],
   "source": [
    "import numpy as np\n",
    "import matplotlib.pyplot as plt\n",
    "from gate import AddGate, MultiplyGate, DotGate, BiasGate, SigmoidGate, ReluGate, SoftmaxGate"
   ]
  },
  {
   "cell_type": "code",
   "execution_count": 2,
   "metadata": {},
   "outputs": [],
   "source": [
    "np.random.seed(1)"
   ]
  },
  {
   "cell_type": "code",
   "execution_count": 3,
   "metadata": {},
   "outputs": [],
   "source": [
    "def LoadDataSet():\n",
    "    DataMatrix = []\n",
    "    LabelList = []\n",
    "    fr = open('dataset.txt')\n",
    "    for line in fr.readlines():\n",
    "        LineArray = line.strip().split()\n",
    "        DataMatrix.append([float(LineArray[0]), float(LineArray[1])])\n",
    "        LabelList.append(int(LineArray[2]))\n",
    "        pass\n",
    "    DataMatrix = np.mat(DataMatrix)\n",
    "    DataMatrix = DataMatrix.T\n",
    "    return DataMatrix, LabelList"
   ]
  },
  {
   "cell_type": "markdown",
   "metadata": {},
   "source": [
    "### Using Sigmoid"
   ]
  },
  {
   "cell_type": "code",
   "execution_count": 4,
   "metadata": {},
   "outputs": [],
   "source": [
    "X, Y = LoadDataSet()\n",
    "Y = np.array(Y)"
   ]
  },
  {
   "cell_type": "code",
   "execution_count": 5,
   "metadata": {},
   "outputs": [
    {
     "name": "stdout",
     "output_type": "stream",
     "text": [
      "2 100\n"
     ]
    }
   ],
   "source": [
    "n,m = np.shape(X)\n",
    "print(n, m)"
   ]
  },
  {
   "cell_type": "code",
   "execution_count": 6,
   "metadata": {},
   "outputs": [],
   "source": [
    "W = np.random.randn(1, n)\n",
    "b = 0"
   ]
  },
  {
   "cell_type": "code",
   "execution_count": 7,
   "metadata": {},
   "outputs": [],
   "source": [
    "def PlotLine(W, b):\n",
    "    W = np.array(W)\n",
    "    DataList = []\n",
    "    LabelList = []\n",
    "    fr = open('dataset.txt')\n",
    "    for line in fr.readlines():\n",
    "        LineArray = line.strip().split()\n",
    "        DataList.append([float(LineArray[0]), float(LineArray[1])])\n",
    "        LabelList.append(int(LineArray[2]))  \n",
    "    DataArray = np.array(DataList)\n",
    "    n = np.shape(DataArray)[0]\n",
    "    Weights = np.squeeze(W)\n",
    "    xcord1 = []\n",
    "    ycord1 = []\n",
    "    xcord2 = []\n",
    "    ycord2 = []\n",
    "    for i in range(n):\n",
    "        if int(LabelList[i])==1:\n",
    "            xcord1.append(DataArray[i,0])\n",
    "            ycord1.append(DataArray[i,1])\n",
    "        else:\n",
    "            xcord2.append(DataArray[i,0])\n",
    "            ycord2.append(DataArray[i,1])\n",
    "    fig = plt.figure()\n",
    "    ax = fig.add_subplot(111)\n",
    "    ax.scatter(xcord1, ycord1, s=30, c='red')\n",
    "    ax.scatter(xcord2, ycord2, s=30, c='green')\n",
    "    x1 = np.arange(-3.0, 3.0, 0.1)\n",
    "    x2 = np.squeeze(-(b+Weights[0]*x1)/Weights[1])\n",
    "    ax.plot(x1,x2)\n",
    "    plt.xlabel('x1')\n",
    "    plt.ylabel('x2')\n",
    "    plt.show()\n",
    "    pass"
   ]
  },
  {
   "cell_type": "code",
   "execution_count": 8,
   "metadata": {},
   "outputs": [
    {
     "data": {
      "image/png": "[encoded data removed]",
      "text/plain": [
       "<Figure size 432x288 with 1 Axes>"
      ]
     },
     "metadata": {},
     "output_type": "display_data"
    }
   ],
   "source": [
    "PlotLine(W, b)"
   ]
  },
  {
   "cell_type": "code",
   "execution_count": 9,
   "metadata": {},
   "outputs": [],
   "source": [
    "dot = DotGate()\n",
    "bias = BiasGate()\n",
    "sigmoid = SigmoidGate()\n",
    "softmax = SoftmaxGate()"
   ]
  },
  {
   "cell_type": "code",
   "execution_count": 10,
   "metadata": {},
   "outputs": [
    {
     "name": "stdout",
     "output_type": "stream",
     "text": [
      "1.1713167375551758\n",
      "1.0349731921097876\n",
      "0.5058986114806029\n",
      "0.8117914584103992\n",
      "0.4118441201470972\n",
      "0.4119308705037264\n",
      "0.9393956536915299\n",
      "0.33570710738917486\n",
      "0.2986878169025962\n",
      "0.20222748489860526\n",
      "0.24950259661232457\n",
      "0.21454960714309448\n",
      "0.21112597162131166\n",
      "0.2014065811275464\n",
      "0.19265048083710337\n",
      "0.1844191859017477\n",
      "0.17666581946241544\n",
      "0.16935271309377622\n",
      "0.16245530110980685\n",
      "0.15596544912695615\n",
      "0.14989764196346894\n",
      "0.14429957685707273\n",
      "0.13926654465530347\n",
      "0.13494935997246632\n",
      "0.13152355708372857\n",
      "0.12907919514001961\n",
      "0.12748386992088948\n",
      "0.1264138560569886\n",
      "0.12557180416190097\n",
      "0.12481138284456167\n",
      "0.12408935297500494\n",
      "0.12339652856163802\n",
      "0.12273036780709505\n",
      "0.12208925718763317\n",
      "0.12147177235578605\n",
      "0.12087660335657364\n",
      "0.12030253912169245\n",
      "0.11974845742015866\n",
      "0.11921331644562087\n",
      "0.1186961474964786\n",
      "0.11819604851048307\n",
      "0.11771217830726605\n",
      "0.1172437514357946\n",
      "0.1167900335475108\n",
      "0.11635033723063697\n",
      "0.11592401825137766\n",
      "0.11551047215553104\n",
      "0.11510913119027338\n",
      "0.11471946151107075\n",
      "0.11434096064306123\n"
     ]
    }
   ],
   "source": [
    "for i in range(500):\n",
    "    Q = dot.forward(W, X)\n",
    "    Z = bias.forward(Q, b)\n",
    "    A = sigmoid.forward(Z)\n",
    "    logprobs = np.multiply(-np.log(A),Y) + \\\n",
    "    np.multiply(-np.log(1 - A), 1 - Y)\n",
    "    cost = 1.0/m * np.nansum(logprobs)\n",
    "    cost = np.squeeze(cost)\n",
    "    dA = -(Y/A) + (1-Y)/(1-A)\n",
    "    dZ = sigmoid.backward(dA)\n",
    "    dQ, db = bias.backward(dZ)\n",
    "    dW, _ = dot.backward(dQ)\n",
    "    W = W - 0.5*dW\n",
    "    b = b - 0.5*db\n",
    "    if i%10==0:\n",
    "        print(cost)\n",
    "        pass\n",
    "    pass"
   ]
  },
  {
   "cell_type": "code",
   "execution_count": 11,
   "metadata": {},
   "outputs": [
    {
     "data": {
      "image/png": "[encoded data removed]",
      "text/plain": [
       "<Figure size 432x288 with 1 Axes>"
      ]
     },
     "metadata": {},
     "output_type": "display_data"
    },
    {
     "name": "stdout",
     "output_type": "stream",
     "text": [
      "0.11400946735099542\n"
     ]
    }
   ],
   "source": [
    "PlotLine(W, b)\n",
    "print(cost)"
   ]
  },
  {
   "cell_type": "markdown",
   "metadata": {},
   "source": [
    "### Using Softmax"
   ]
  },
  {
   "cell_type": "code",
   "execution_count": 12,
   "metadata": {},
   "outputs": [
    {
     "name": "stdout",
     "output_type": "stream",
     "text": [
      "[[1 0 1 1 1 0 1 0 1 1 0 1 0 1 0 0 0 0 0 0 0 0 1 0 0 1 1 0 0 1 0 0 1 0 0 1\n",
      "  1 1 1 1 0 0 1 0 0 1 0 0 1 1 1 1 1 1 0 0 1 0 1 0 0 0 1 1 1 0 0 1 1 1 1 0\n",
      "  1 0 1 1 0 0 0 0 1 0 1 0 0 0 0 1 0 0 0 1 1 0 0 0 1 0 1 1]\n",
      " [0 1 0 0 0 1 0 1 0 0 1 0 1 0 1 1 1 1 1 1 1 1 0 1 1 0 0 1 1 0 1 1 0 1 1 0\n",
      "  0 0 0 0 1 1 0 1 1 0 1 1 0 0 0 0 0 0 1 1 0 1 0 1 1 1 0 0 0 1 1 0 0 0 0 1\n",
      "  0 1 0 0 1 1 1 1 0 1 0 1 1 1 1 0 1 1 1 0 0 1 1 1 0 1 0 0]]\n"
     ]
    }
   ],
   "source": [
    "X, Ys = LoadDataSet()\n",
    "Ys = np.array(Ys)\n",
    "Y = []\n",
    "for y in Ys:\n",
    "    if y == 0:\n",
    "        Y.append([1, 0])\n",
    "        pass\n",
    "    else:\n",
    "        Y.append([0, 1])\n",
    "        pass\n",
    "    pass\n",
    "Y = np.array(Y).T\n",
    "\n",
    "n,m = np.shape(X)\n",
    "print(Y)"
   ]
  },
  {
   "cell_type": "code",
   "execution_count": 13,
   "metadata": {},
   "outputs": [],
   "source": [
    "W = np.random.randn(2, n)\n",
    "b = np.zeros((2, 1))"
   ]
  },
  {
   "cell_type": "code",
   "execution_count": 14,
   "metadata": {},
   "outputs": [],
   "source": [
    "def PlotLine2(W, b):\n",
    "    W = np.array(W)\n",
    "    DataList = []\n",
    "    LabelList = []\n",
    "    fr = open('dataset.txt')\n",
    "    for line in fr.readlines():\n",
    "        LineArray = line.strip().split()\n",
    "        DataList.append([float(LineArray[0]), float(LineArray[1])])\n",
    "        LabelList.append(int(LineArray[2]))  \n",
    "    DataArray = np.array(DataList)\n",
    "    n = np.shape(DataArray)[0]\n",
    "    Weights = np.squeeze(W)\n",
    "    xcord1 = []\n",
    "    ycord1 = []\n",
    "    xcord2 = []\n",
    "    ycord2 = []\n",
    "    for i in range(n):\n",
    "        if int(LabelList[i])==1:\n",
    "            xcord1.append(DataArray[i,0])\n",
    "            ycord1.append(DataArray[i,1])\n",
    "        else:\n",
    "            xcord2.append(DataArray[i,0])\n",
    "            ycord2.append(DataArray[i,1])\n",
    "    fig = plt.figure()\n",
    "    ax = fig.add_subplot(111)\n",
    "    ax.scatter(xcord1, ycord1, s=30, c='red')\n",
    "    ax.scatter(xcord2, ycord2, s=30, c='green')\n",
    "    x1 = np.arange(-3.0, 3.0, 0.1)\n",
    "    x2 = np.squeeze(-((b[0][0]-b[1][0])+(Weights[0][0]-Weights[1][0])*x1)\\\n",
    "                    /(Weights[0][1]-Weights[1][1]))\n",
    "    ax.plot(x1,x2)\n",
    "    plt.xlabel('x1')\n",
    "    plt.ylabel('x2')\n",
    "    plt.show()\n",
    "    pass"
   ]
  },
  {
   "cell_type": "code",
   "execution_count": 15,
   "metadata": {},
   "outputs": [
    {
     "data": {
      "image/png": "[encoded data removed]",
      "text/plain": [
       "<Figure size 432x288 with 1 Axes>"
      ]
     },
     "metadata": {},
     "output_type": "display_data"
    }
   ],
   "source": [
    "PlotLine2(W, b)"
   ]
  },
  {
   "cell_type": "code",
   "execution_count": 16,
   "metadata": {},
   "outputs": [],
   "source": [
    "dot = DotGate()\n",
    "bias = BiasGate()\n",
    "sigmoid = SigmoidGate()\n",
    "softmax = SoftmaxGate()"
   ]
  },
  {
   "cell_type": "code",
   "execution_count": 17,
   "metadata": {},
   "outputs": [
    {
     "name": "stdout",
     "output_type": "stream",
     "text": [
      "2.100090459157213\n",
      "0.7032943675670061\n",
      "0.6246846306756954\n",
      "0.5612456894221856\n",
      "0.5101232617051545\n",
      "0.46975799991987566\n",
      "0.43819619533991516\n",
      "0.4134385145836381\n",
      "0.39372208424916616\n",
      "0.37765632096204704\n",
      "0.36422441011101114\n",
      "0.3527149683003863\n",
      "0.3426397994071539\n",
      "0.33366434444798876\n",
      "0.3255568434833546\n",
      "0.31815368936496446\n",
      "0.31133658650705986\n",
      "0.3050176887202631\n",
      "0.29912994344819466\n",
      "0.29362078304526346\n",
      "0.28844795982163124\n",
      "0.2835767581153895\n",
      "0.27897809712146093\n",
      "0.27462721564965614\n",
      "0.27050274167001953\n",
      "0.26658601984423025\n",
      "0.262860614722574\n",
      "0.259311935588376\n",
      "0.2559269470783459\n",
      "0.25269394144394386\n",
      "0.24960235598351324\n",
      "0.24664262423257152\n",
      "0.24380605287539261\n",
      "0.24108471862122963\n",
      "0.23847138084922972\n",
      "0.23595940690900022\n",
      "0.23354270772634367\n",
      "0.23121568190881064\n",
      "0.22897316694173253\n",
      "0.22681039635764536\n",
      "0.22472296198115474\n",
      "0.22270678051830345\n",
      "0.2207580638886249\n",
      "0.21887329279940343\n",
      "0.217049193142273\n",
      "0.2152827148571002\n",
      "0.21357101296099493\n",
      "0.2119114304836341\n",
      "0.2103014830861947\n",
      "0.20873884517127586\n"
     ]
    }
   ],
   "source": [
    "for i in range(500):\n",
    "    Q = dot.forward(W, X)\n",
    "    Z = bias.forward(Q, b)\n",
    "    A = softmax.forward(Z)\n",
    "    logprobs = -np.multiply(Y, np.log(A))\n",
    "    cost = 1.0/m * np.nansum(logprobs)\n",
    "    cost = np.squeeze(cost)\n",
    "    dA = -np.squeeze((Y/A))\n",
    "    dZ = softmax.backward(dA)\n",
    "    dQ, db = bias.backward(dZ)\n",
    "    dW, _ = dot.backward(dQ)\n",
    "    W = W - 0.08*dW\n",
    "    b = b - 0.08*db\n",
    "    if i%10==0:\n",
    "        print(cost)\n",
    "        pass\n",
    "    pass"
   ]
  },
  {
   "cell_type": "code",
   "execution_count": 18,
   "metadata": {},
   "outputs": [
    {
     "data": {
      "image/png": "[encoded data removed]",
      "text/plain": [
       "<Figure size 432x288 with 1 Axes>"
      ]
     },
     "metadata": {},
     "output_type": "display_data"
    },
    {
     "name": "stdout",
     "output_type": "stream",
     "text": [
      "0.20737111652929308\n"
     ]
    }
   ],
   "source": [
    "PlotLine2(W, b)\n",
    "print(cost)"
   ]
  },
  {
   "cell_type": "code",
   "execution_count": null,
   "metadata": {},
   "outputs": [],
   "source": []
  }
 ],
 "metadata": {
  "kernelspec": {
   "display_name": "Python 3",
   "language": "python",
   "name": "python3"
  },
  "language_info": {
   "codemirror_mode": {
    "name": "ipython",
    "version": 3
   },
   "file_extension": ".py",
   "mimetype": "text/x-python",
   "name": "python",
   "nbconvert_exporter": "python",
   "pygments_lexer": "ipython3",
   "version": "3.6.5"
  }
 },
 "nbformat": 4,
 "nbformat_minor": 2
}
