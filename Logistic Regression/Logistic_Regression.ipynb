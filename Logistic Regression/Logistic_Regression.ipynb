{
 "cells": [
  {
   "cell_type": "code",
   "execution_count": 1,
   "metadata": {},
   "outputs": [],
   "source": [
    "import numpy as np\n",
    "import matplotlib.pyplot as plt\n",
    "from gate import AddGate, MultiplyGate, DotGate, BiasGate, SigmoidGate, ReluGate, SoftmaxGate"
   ]
  },
  {
   "cell_type": "code",
   "execution_count": 2,
   "metadata": {},
   "outputs": [],
   "source": [
    "np.random.seed(1)"
   ]
  },
  {
   "cell_type": "code",
   "execution_count": 3,
   "metadata": {},
   "outputs": [],
   "source": [
    "def LoadDataSet():\n",
    "    DataMatrix = []\n",
    "    LabelList = []\n",
    "    fr = open('dataset.txt')\n",
    "    for line in fr.readlines():\n",
    "        LineArray = line.strip().split()\n",
    "        DataMatrix.append([float(LineArray[0]), float(LineArray[1])])\n",
    "        LabelList.append(int(LineArray[2]))\n",
    "        pass\n",
    "    DataMatrix = np.mat(DataMatrix)\n",
    "    DataMatrix = DataMatrix.T\n",
    "    return DataMatrix, LabelList"
   ]
  },
  {
   "cell_type": "markdown",
   "metadata": {},
   "source": [
    "### Using Sigmoid"
   ]
  },
  {
   "cell_type": "code",
   "execution_count": 4,
   "metadata": {},
   "outputs": [],
   "source": [
    "X, Y = LoadDataSet()\n",
    "Y = np.array(Y)"
   ]
  },
  {
   "cell_type": "code",
   "execution_count": 5,
   "metadata": {},
   "outputs": [
    {
     "name": "stdout",
     "output_type": "stream",
     "text": [
      "2 100\n"
     ]
    }
   ],
   "source": [
    "n,m = np.shape(X)\n",
    "print(n, m)"
   ]
  },
  {
   "cell_type": "code",
   "execution_count": 6,
   "metadata": {},
   "outputs": [],
   "source": [
    "def PlotLine(W, b):\n",
    "    W = np.array(W)\n",
    "    DataList = []\n",
    "    LabelList = []\n",
    "    fr = open('dataset.txt')\n",
    "    for line in fr.readlines():\n",
    "        LineArray = line.strip().split()\n",
    "        DataList.append([float(LineArray[0]), float(LineArray[1])])\n",
    "        LabelList.append(int(LineArray[2]))  \n",
    "    DataArray = np.array(DataList)\n",
    "    n = np.shape(DataArray)[0]\n",
    "    Weights = np.squeeze(W)\n",
    "    xcord1 = []\n",
    "    ycord1 = []\n",
    "    xcord2 = []\n",
    "    ycord2 = []\n",
    "    for i in range(n):\n",
    "        if int(LabelList[i])==1:\n",
    "            xcord1.append(DataArray[i,0])\n",
    "            ycord1.append(DataArray[i,1])\n",
    "        else:\n",
    "            xcord2.append(DataArray[i,0])\n",
    "            ycord2.append(DataArray[i,1])\n",
    "    fig = plt.figure()\n",
    "    ax = fig.add_subplot(111)\n",
    "    ax.scatter(xcord1, ycord1, s=30, c='red')\n",
    "    ax.scatter(xcord2, ycord2, s=30, c='green')\n",
    "    x1 = np.arange(-3.0, 3.0, 0.1)\n",
    "    x2 = np.squeeze(-(b+Weights[0]*x1)/Weights[1])\n",
    "    ax.plot(x1,x2)\n",
    "    plt.xlabel('x1')\n",
    "    plt.ylabel('x2')\n",
    "    plt.show()\n",
    "    pass"
   ]
  },
  {
   "cell_type": "code",
   "execution_count": 7,
   "metadata": {},
   "outputs": [
    {
     "data": {
      "image/png": "[encoded data removed]",
      "text/plain": [
       "<Figure size 432x288 with 1 Axes>"
      ]
     },
     "metadata": {},
     "output_type": "display_data"
    }
   ],
   "source": [
    "W = np.random.randn(1, n)\n",
    "b = 0\n",
    "PlotLine(W, b)"
   ]
  },
  {
   "cell_type": "code",
   "execution_count": 8,
   "metadata": {},
   "outputs": [],
   "source": [
    "dot = DotGate()\n",
    "bias = BiasGate()\n",
    "sigmoid = SigmoidGate()"
   ]
  },
  {
   "cell_type": "code",
   "execution_count": 9,
   "metadata": {},
   "outputs": [
    {
     "name": "stdout",
     "output_type": "stream",
     "text": [
      "1.1713167375551758\n",
      "0.7258378050791207\n",
      "0.6268198484195384\n",
      "0.5483875624012857\n",
      "0.48879718707109154\n",
      "0.4447689825269107\n",
      "0.41240859453052847\n",
      "0.38816262548259106\n",
      "0.36933749581458053\n",
      "0.35412064849251\n",
      "0.3413640632203403\n",
      "0.33035299072742746\n",
      "0.32063744846354136\n",
      "0.31192597942597755\n",
      "0.30402246131516614\n",
      "0.29678920509523543\n",
      "0.29012536164763686\n",
      "0.2839541144017677\n",
      "0.27821492372096013\n",
      "0.2728587070055401\n",
      "0.26784475251924283\n",
      "0.2631386778183165\n",
      "0.2587110323955335\n",
      "0.25453630810552713\n",
      "0.25059221513344504\n",
      "0.24685913613791502\n",
      "0.24331970365905203\n",
      "0.23995846541539503\n",
      "0.23676161408956123\n",
      "0.23371676569559277\n",
      "0.23081277541324371\n",
      "0.22803958291171925\n",
      "0.2253880812898901\n",
      "0.2228500052073582\n",
      "0.22041783480114738\n",
      "0.21808471271966387\n",
      "0.21584437214987454\n",
      "0.21369107412413854\n",
      "0.21161955270853178\n",
      "0.20962496692085586\n",
      "0.20770285842170622\n",
      "0.2058491141785366\n",
      "0.2040599334295584\n",
      "0.20233179837811502\n",
      "0.2006614481337345\n",
      "0.1990458554870586\n",
      "0.1974822061651163\n",
      "0.1959678802631229\n",
      "0.19450043559088945\n",
      "0.19307759270738545\n"
     ]
    }
   ],
   "source": [
    "for i in range(500):\n",
    "    Q = dot.forward(W, X)\n",
    "    Z = bias.forward(Q, b)\n",
    "    A = sigmoid.forward(Z)\n",
    "    logprobs = np.multiply(-np.log(A),Y) + \\\n",
    "    np.multiply(-np.log(1 - A), 1 - Y)\n",
    "    cost = 1.0/m * np.nansum(logprobs)\n",
    "    cost = np.squeeze(cost)\n",
    "    dA = 1.0/m * (-(Y/A) + (1-Y)/(1-A))\n",
    "    dZ = sigmoid.backward(dA)\n",
    "    dQ, db = bias.backward(dZ)\n",
    "    dW, _ = dot.backward(dQ)\n",
    "    W = W - 0.1*dW\n",
    "    b = b - 0.1*db\n",
    "    if i%10==0:\n",
    "        print(cost)\n",
    "        pass\n",
    "    pass"
   ]
  },
  {
   "cell_type": "code",
   "execution_count": 10,
   "metadata": {},
   "outputs": [
    {
     "data": {
      "image/png": "[encoded data removed]",
      "text/plain": [
       "<Figure size 432x288 with 1 Axes>"
      ]
     },
     "metadata": {},
     "output_type": "display_data"
    },
    {
     "name": "stdout",
     "output_type": "stream",
     "text": [
      "0.19183340517485245\n"
     ]
    }
   ],
   "source": [
    "PlotLine(W, b)\n",
    "print(cost)"
   ]
  },
  {
   "cell_type": "markdown",
   "metadata": {},
   "source": [
    "### Using Softmax"
   ]
  },
  {
   "cell_type": "code",
   "execution_count": 11,
   "metadata": {},
   "outputs": [
    {
     "name": "stdout",
     "output_type": "stream",
     "text": [
      "[[1 0 1 1 1 0 1 0 1 1 0 1 0 1 0 0 0 0 0 0 0 0 1 0 0 1 1 0 0 1 0 0 1 0 0 1\n",
      "  1 1 1 1 0 0 1 0 0 1 0 0 1 1 1 1 1 1 0 0 1 0 1 0 0 0 1 1 1 0 0 1 1 1 1 0\n",
      "  1 0 1 1 0 0 0 0 1 0 1 0 0 0 0 1 0 0 0 1 1 0 0 0 1 0 1 1]\n",
      " [0 1 0 0 0 1 0 1 0 0 1 0 1 0 1 1 1 1 1 1 1 1 0 1 1 0 0 1 1 0 1 1 0 1 1 0\n",
      "  0 0 0 0 1 1 0 1 1 0 1 1 0 0 0 0 0 0 1 1 0 1 0 1 1 1 0 0 0 1 1 0 0 0 0 1\n",
      "  0 1 0 0 1 1 1 1 0 1 0 1 1 1 1 0 1 1 1 0 0 1 1 1 0 1 0 0]]\n"
     ]
    }
   ],
   "source": [
    "X, Ys = LoadDataSet()\n",
    "Ys = np.array(Ys)\n",
    "Y = []\n",
    "for y in Ys:\n",
    "    if y == 0:\n",
    "        Y.append([1, 0])\n",
    "        pass\n",
    "    else:\n",
    "        Y.append([0, 1])\n",
    "        pass\n",
    "    pass\n",
    "Y = np.array(Y).T\n",
    "\n",
    "n,m = np.shape(X)\n",
    "print(Y)"
   ]
  },
  {
   "cell_type": "code",
   "execution_count": 12,
   "metadata": {},
   "outputs": [],
   "source": [
    "def PlotLine2(W, b):\n",
    "    W = np.array(W)\n",
    "    DataList = []\n",
    "    LabelList = []\n",
    "    fr = open('dataset.txt')\n",
    "    for line in fr.readlines():\n",
    "        LineArray = line.strip().split()\n",
    "        DataList.append([float(LineArray[0]), float(LineArray[1])])\n",
    "        LabelList.append(int(LineArray[2]))  \n",
    "    DataArray = np.array(DataList)\n",
    "    n = np.shape(DataArray)[0]\n",
    "    Weights = np.squeeze(W)\n",
    "    xcord1 = []\n",
    "    ycord1 = []\n",
    "    xcord2 = []\n",
    "    ycord2 = []\n",
    "    for i in range(n):\n",
    "        if int(LabelList[i])==1:\n",
    "            xcord1.append(DataArray[i,0])\n",
    "            ycord1.append(DataArray[i,1])\n",
    "        else:\n",
    "            xcord2.append(DataArray[i,0])\n",
    "            ycord2.append(DataArray[i,1])\n",
    "    fig = plt.figure()\n",
    "    ax = fig.add_subplot(111)\n",
    "    ax.scatter(xcord1, ycord1, s=30, c='red')\n",
    "    ax.scatter(xcord2, ycord2, s=30, c='green')\n",
    "    x1 = np.arange(-3.0, 3.0, 0.1)\n",
    "    x2 = np.squeeze(-((b[0][0]-b[1][0])+(Weights[0][0]-Weights[1][0])*x1)\\\n",
    "                    /(Weights[0][1]-Weights[1][1]))\n",
    "    ax.plot(x1,x2)\n",
    "    plt.xlabel('x1')\n",
    "    plt.ylabel('x2')\n",
    "    plt.show()\n",
    "    pass"
   ]
  },
  {
   "cell_type": "code",
   "execution_count": 13,
   "metadata": {},
   "outputs": [
    {
     "data": {
      "image/png": "[encoded data removed]",
      "text/plain": [
       "<Figure size 432x288 with 1 Axes>"
      ]
     },
     "metadata": {},
     "output_type": "display_data"
    }
   ],
   "source": [
    "W = np.random.randn(2, n)\n",
    "b = np.zeros((2, 1))\n",
    "PlotLine2(W, b)"
   ]
  },
  {
   "cell_type": "code",
   "execution_count": 14,
   "metadata": {},
   "outputs": [],
   "source": [
    "dot = DotGate()\n",
    "bias = BiasGate()\n",
    "softmax = SoftmaxGate()"
   ]
  },
  {
   "cell_type": "code",
   "execution_count": 15,
   "metadata": {},
   "outputs": [
    {
     "name": "stdout",
     "output_type": "stream",
     "text": [
      "2.100090459157213\n",
      "0.6810029911284986\n",
      "0.5913258742814675\n",
      "0.5217101989738275\n",
      "0.46959611093497133\n",
      "0.43126884332351667\n",
      "0.4028795947888986\n",
      "0.3812412313967515\n",
      "0.364090489569933\n",
      "0.34995775851713007\n",
      "0.33792381196146387\n",
      "0.327414499030662\n",
      "0.3180635235982792\n",
      "0.3096289910286089\n",
      "0.30194442521934245\n",
      "0.29489021087675726\n",
      "0.2883767988612171\n",
      "0.2823346512347451\n",
      "0.27670807467198233\n",
      "0.271451328654807\n",
      "0.2665260894801116\n",
      "0.26189974054357956\n",
      "0.25754417909694655\n",
      "0.25343495496466256\n",
      "0.24955062908108858\n",
      "0.24587228214884302\n",
      "0.2423831290228406\n",
      "0.23906820979079768\n",
      "0.23591413804114575\n",
      "0.23290889283689933\n",
      "0.2300416448200356\n",
      "0.2273026094647117\n",
      "0.2246829222638918\n",
      "0.2221745318673986\n",
      "0.21977010807221573\n",
      "0.21746296221264083\n",
      "0.21524697798203607\n",
      "0.21311655108746544\n",
      "0.21106653642543355\n",
      "0.20909220169311313\n",
      "0.20718918653000337\n",
      "0.20535346643074348\n",
      "0.20358132078858987\n",
      "0.20186930452667093\n",
      "0.20021422285488108\n",
      "0.19861310875748162\n",
      "0.19706320287272638\n",
      "0.19556193547311462\n",
      "0.19410691029479907\n",
      "0.1926958899985235\n"
     ]
    }
   ],
   "source": [
    "for i in range(500):\n",
    "    Q = dot.forward(W, X)\n",
    "    Z = bias.forward(Q, b)\n",
    "    A = softmax.forward(Z)\n",
    "    logprobs = -np.multiply(Y, np.log(A))\n",
    "    cost = 1.0/m * np.nansum(logprobs)\n",
    "    cost = np.squeeze(cost)\n",
    "    dA = 1.0/m * -np.squeeze((Y/A))\n",
    "    dZ = softmax.backward(dA)\n",
    "    dQ, db = bias.backward(dZ)\n",
    "    dW, _ = dot.backward(dQ)\n",
    "    W = W - 0.05*dW\n",
    "    b = b - 0.05*db\n",
    "    if i%10==0:\n",
    "        print(cost)\n",
    "        pass\n",
    "    pass"
   ]
  },
  {
   "cell_type": "code",
   "execution_count": 16,
   "metadata": {},
   "outputs": [
    {
     "data": {
      "image/png": "[encoded data removed]",
      "text/plain": [
       "<Figure size 432x288 with 1 Axes>"
      ]
     },
     "metadata": {},
     "output_type": "display_data"
    },
    {
     "name": "stdout",
     "output_type": "stream",
     "text": [
      "0.19146186445289837\n"
     ]
    }
   ],
   "source": [
    "PlotLine2(W, b)\n",
    "print(cost)"
   ]
  },
  {
   "cell_type": "code",
   "execution_count": null,
   "metadata": {},
   "outputs": [],
   "source": []
  }
 ],
 "metadata": {
  "kernelspec": {
   "display_name": "Python 3",
   "language": "python",
   "name": "python3"
  },
  "language_info": {
   "codemirror_mode": {
    "name": "ipython",
    "version": 3
   },
   "file_extension": ".py",
   "mimetype": "text/x-python",
   "name": "python",
   "nbconvert_exporter": "python",
   "pygments_lexer": "ipython3",
   "version": "3.6.5"
  }
 },
 "nbformat": 4,
 "nbformat_minor": 2
}
