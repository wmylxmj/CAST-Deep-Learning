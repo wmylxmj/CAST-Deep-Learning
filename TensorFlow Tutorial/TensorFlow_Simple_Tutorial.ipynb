{
 "cells": [
  {
   "cell_type": "code",
   "execution_count": 1,
   "metadata": {},
   "outputs": [
    {
     "name": "stderr",
     "output_type": "stream",
     "text": [
      "C:\\Users\\wmy\\Anaconda3\\lib\\site-packages\\h5py\\__init__.py:36: FutureWarning: Conversion of the second argument of issubdtype from `float` to `np.floating` is deprecated. In future, it will be treated as `np.float64 == np.dtype(float).type`.\n",
      "  from ._conv import register_converters as _register_converters\n"
     ]
    },
    {
     "name": "stdout",
     "output_type": "stream",
     "text": [
      "WARNING:tensorflow:From C:\\Users\\wmy\\Anaconda3\\lib\\site-packages\\tensorflow\\python\\ops\\distributions\\distribution.py:265: ReparameterizationType.__init__ (from tensorflow.python.ops.distributions.distribution) is deprecated and will be removed after 2019-01-01.\n",
      "Instructions for updating:\n",
      "The TensorFlow Distributions library has moved to TensorFlow Probability (https://github.com/tensorflow/probability). You should update all references to use `tfp.distributions` instead of `tf.distributions`.\n",
      "WARNING:tensorflow:From C:\\Users\\wmy\\Anaconda3\\lib\\site-packages\\tensorflow\\python\\ops\\distributions\\bernoulli.py:169: RegisterKL.__init__ (from tensorflow.python.ops.distributions.kullback_leibler) is deprecated and will be removed after 2019-01-01.\n",
      "Instructions for updating:\n",
      "The TensorFlow Distributions library has moved to TensorFlow Probability (https://github.com/tensorflow/probability). You should update all references to use `tfp.distributions` instead of `tf.distributions`.\n"
     ]
    }
   ],
   "source": [
    "import tensorflow as tf\n",
    "import numpy as np\n",
    "import matplotlib.pyplot as plt"
   ]
  },
  {
   "cell_type": "code",
   "execution_count": 2,
   "metadata": {},
   "outputs": [
    {
     "name": "stdout",
     "output_type": "stream",
     "text": [
      "[[ 0.23098833 -1.38783838  1.13684231]\n",
      " [ 0.36014113  1.08839117 -0.69980602]\n",
      " [ 0.73579382  0.58718295  0.97604822]]\n"
     ]
    }
   ],
   "source": [
    "a = np.random.randn(3, 3)\n",
    "print(a)"
   ]
  },
  {
   "cell_type": "code",
   "execution_count": 4,
   "metadata": {},
   "outputs": [
    {
     "name": "stdout",
     "output_type": "stream",
     "text": [
      "Tensor(\"Const_1:0\", shape=(3, 3), dtype=float64)\n",
      "<dtype: 'float64'>\n"
     ]
    }
   ],
   "source": [
    "a_tensor = tf.constant(a)\n",
    "print(a_tensor)\n",
    "print(a_tensor.dtype)"
   ]
  },
  {
   "cell_type": "code",
   "execution_count": 6,
   "metadata": {},
   "outputs": [
    {
     "name": "stdout",
     "output_type": "stream",
     "text": [
      "[[ 0.23098833 -1.38783838  1.13684231]\n",
      " [ 0.36014113  1.08839117 -0.69980602]\n",
      " [ 0.73579382  0.58718295  0.97604822]]\n"
     ]
    }
   ],
   "source": [
    "with tf.Session() as sess:\n",
    "    print(sess.run(a_tensor))"
   ]
  },
  {
   "cell_type": "code",
   "execution_count": 7,
   "metadata": {},
   "outputs": [
    {
     "name": "stdout",
     "output_type": "stream",
     "text": [
      "<tf.Variable 'Variable:0' shape=(2, 3) dtype=float32_ref>\n"
     ]
    }
   ],
   "source": [
    "w = tf.Variable(tf.random_normal([2, 3]))\n",
    "print(w)"
   ]
  },
  {
   "cell_type": "code",
   "execution_count": 12,
   "metadata": {},
   "outputs": [
    {
     "name": "stdout",
     "output_type": "stream",
     "text": [
      "error\n"
     ]
    }
   ],
   "source": [
    "with tf.Session() as sess:\n",
    "    try:\n",
    "        print(sess.run(w))\n",
    "    except:\n",
    "        print('error')"
   ]
  },
  {
   "cell_type": "code",
   "execution_count": 14,
   "metadata": {},
   "outputs": [
    {
     "name": "stdout",
     "output_type": "stream",
     "text": [
      "[[-0.19574387 -0.17532395 -0.28150457]\n",
      " [ 0.03928045  0.88325596  0.9087141 ]]\n"
     ]
    }
   ],
   "source": [
    "init = tf.global_variables_initializer()\n",
    "with tf.Session() as sess:\n",
    "    sess.run(init)\n",
    "    try:\n",
    "        print(sess.run(w))\n",
    "    except:\n",
    "        print('error')"
   ]
  },
  {
   "cell_type": "code",
   "execution_count": 22,
   "metadata": {},
   "outputs": [
    {
     "name": "stdout",
     "output_type": "stream",
     "text": [
      "<tf.Variable 'w:0' shape=(2, 3) dtype=float32_ref>\n"
     ]
    }
   ],
   "source": [
    "tf.reset_default_graph()\n",
    "w = tf.get_variable(name='w', shape=(2, 3), trainable=True)\n",
    "print(w)"
   ]
  },
  {
   "cell_type": "code",
   "execution_count": 23,
   "metadata": {},
   "outputs": [
    {
     "name": "stdout",
     "output_type": "stream",
     "text": [
      "error\n"
     ]
    }
   ],
   "source": [
    "try:\n",
    "    w = tf.get_variable(name='w', shape=(2, 3))\n",
    "except:\n",
    "    print('error')"
   ]
  },
  {
   "cell_type": "code",
   "execution_count": 24,
   "metadata": {},
   "outputs": [
    {
     "data": {
      "image/png": "[encoded data removed]",
      "text/plain": [
       "<Figure size 432x288 with 1 Axes>"
      ]
     },
     "metadata": {},
     "output_type": "display_data"
    },
    {
     "name": "stdout",
     "output_type": "stream",
     "text": [
      "Epoch: 1 cost= 0.24618317 W= [1.4126652] b= [0.13697515]\n",
      "Epoch: 3 cost= 0.12013608 W= [1.8016573] b= [0.03033774]\n",
      "Epoch: 5 cost= 0.107283354 W= [1.9068767] b= [-0.00932212]\n",
      "Epoch: 7 cost= 0.10569341 W= [1.9341621] b= [-0.01978063]\n",
      "Epoch: 9 cost= 0.105400264 W= [1.9412181] b= [-0.02248818]\n",
      "Epoch: 11 cost= 0.10533238 W= [1.9430423] b= [-0.02318818]\n",
      "Epoch: 13 cost= 0.10531536 W= [1.943514] b= [-0.02336925]\n",
      "Epoch: 15 cost= 0.105311014 W= [1.9436355] b= [-0.02341585]\n",
      "Epoch: 17 cost= 0.10530987 W= [1.9436675] b= [-0.02342812]\n",
      "Epoch: 19 cost= 0.10530958 W= [1.9436755] b= [-0.02343122]\n",
      "Finished\n",
      "cost= 0.10530952 W= [1.9436768] b= [-0.02343168]\n"
     ]
    },
    {
     "data": {
      "image/png": "[encoded data removed]",
      "text/plain": [
       "<Figure size 432x288 with 1 Axes>"
      ]
     },
     "metadata": {},
     "output_type": "display_data"
    },
    {
     "data": {
      "image/png": "[encoded data removed]",
      "text/plain": [
       "<Figure size 432x288 with 1 Axes>"
      ]
     },
     "metadata": {},
     "output_type": "display_data"
    },
    {
     "name": "stdout",
     "output_type": "stream",
     "text": [
      "x=0.2, z= [0.3653037]\n"
     ]
    }
   ],
   "source": [
    "train_X = np.linspace(-1, 1, 100)\n",
    "train_Y = 2 * train_X + np.random.randn(*train_X.shape) * 0.3\n",
    "\n",
    "plt.plot(train_X, train_Y, 'ro', label='original data')\n",
    "plt.legend()\n",
    "plt.show()\n",
    "\n",
    "X = tf.placeholder(\"float\")\n",
    "Y = tf.placeholder(\"float\")\n",
    "\n",
    "W = tf.Variable(tf.random_normal([1]), name=\"weight\")\n",
    "b = tf.Variable(tf.zeros([1]), name=\"bias\")\n",
    "\n",
    "Z = tf.multiply(X, W) + b\n",
    "\n",
    "plotdata = {\"batchsize\":[], \"loss\":[]}\n",
    "\n",
    "def moving_average(a,w=10):\n",
    "    if len(a) < w:\n",
    "        return a[:]\n",
    "    return [val if idx < w else sum(a[(idx-w):idx])/w for idx, val in enumerate(a)]\n",
    "\n",
    "cost = tf.reduce_mean(tf.square(Y - Z))\n",
    "learning_rate = 0.01\n",
    "optimizer = tf.train.GradientDescentOptimizer(learning_rate).minimize(cost)\n",
    "\n",
    "init = tf.global_variables_initializer()\n",
    "\n",
    "num_epochs = 20\n",
    "display_step = 2\n",
    "\n",
    "with tf.Session() as sess:\n",
    "    sess.run(init)\n",
    "    plotdata = {\"batchsize\":[], \"loss\":[]}\n",
    "    for epoch in range(num_epochs):\n",
    "        for (x, y) in zip(train_X, train_Y) :\n",
    "            sess.run(optimizer, feed_dict = {X:x, Y:y})\n",
    "        if epoch % display_step == 0:\n",
    "            loss = sess.run(cost, feed_dict={X:train_X, Y:train_Y})\n",
    "            print(\"Epoch:\", epoch+1, \"cost=\", loss, \\\n",
    "                  \"W=\",sess.run(W), \"b=\", sess.run(b))\n",
    "            if not (loss == 'NA'):\n",
    "                plotdata[\"batchsize\"].append(epoch)\n",
    "                plotdata[\"loss\"].append(loss)\n",
    "    print('Finished')\n",
    "    print(\"cost=\", sess.run(cost, feed_dict={X:train_X, Y:train_Y}), \\\n",
    "          \"W=\",sess.run(W), \"b=\", sess.run(b))\n",
    "        \n",
    "    plt.plot(train_X, train_Y, 'ro', label='original data')\n",
    "    plt.plot(train_X, sess.run(W) * train_X + sess.run(b), label='Fittedline')\n",
    "    plt.legend()\n",
    "    plt.show()\n",
    "    \n",
    "    plotdata[\"avgloss\"]=moving_average(plotdata[\"loss\"])\n",
    "    plt.figure(1)\n",
    "    plt.subplot(211)\n",
    "    plt.plot(plotdata[\"batchsize\"], plotdata[\"avgloss\"], 'b--')\n",
    "    plt.xlabel('minibatch number')\n",
    "    plt.ylabel('loss')\n",
    "    plt.title('minibatch run vs. training loss')\n",
    "    \n",
    "    plt.show()    \n",
    "    \n",
    "    print(\"x=0.2, z=\", sess.run(Z, feed_dict={X:0.2}))"
   ]
  },
  {
   "cell_type": "code",
   "execution_count": 25,
   "metadata": {},
   "outputs": [],
   "source": [
    "# 更多细节：https://www.w3cschool.cn/tensorflow_python/"
   ]
  },
  {
   "cell_type": "code",
   "execution_count": null,
   "metadata": {},
   "outputs": [],
   "source": []
  }
 ],
 "metadata": {
  "kernelspec": {
   "display_name": "Python 3",
   "language": "python",
   "name": "python3"
  },
  "language_info": {
   "codemirror_mode": {
    "name": "ipython",
    "version": 3
   },
   "file_extension": ".py",
   "mimetype": "text/x-python",
   "name": "python",
   "nbconvert_exporter": "python",
   "pygments_lexer": "ipython3",
   "version": "3.6.5"
  }
 },
 "nbformat": 4,
 "nbformat_minor": 2
}
