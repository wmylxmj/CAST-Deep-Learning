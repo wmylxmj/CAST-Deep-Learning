{
 "cells": [
  {
   "cell_type": "markdown",
   "metadata": {},
   "source": [
    "### Computation Graph: Forward Propagation and Backward Propagation "
   ]
  },
  {
   "cell_type": "code",
   "execution_count": 1,
   "metadata": {},
   "outputs": [],
   "source": [
    "import numpy as np\n",
    "import matplotlib.pyplot as plt"
   ]
  },
  {
   "cell_type": "markdown",
   "metadata": {},
   "source": [
    "#### Add Gate\n",
    "<img src=\"./images/AddGate.jpg\" width=\"25%\" align=center />"
   ]
  },
  {
   "cell_type": "code",
   "execution_count": 2,
   "metadata": {},
   "outputs": [],
   "source": [
    "class AddGate(object):\n",
    "    \n",
    "    def __init__(self, name=None):\n",
    "        self.name = name\n",
    "        pass\n",
    "    \n",
    "    def forward(self, x, y):\n",
    "        return x+y\n",
    "    \n",
    "    def backward(self, dz):\n",
    "        return dz, dz\n",
    "    \n",
    "    pass"
   ]
  },
  {
   "cell_type": "markdown",
   "metadata": {},
   "source": [
    "#### Gradient Test\n",
    "<img src=\"./images/GradientTest.jpg\" width=\"50%\" align=center />"
   ]
  },
  {
   "cell_type": "code",
   "execution_count": 3,
   "metadata": {},
   "outputs": [
    {
     "name": "stdout",
     "output_type": "stream",
     "text": [
      "dx_dy_1:  (9.3, 9.3)\n",
      "dx_dy_2:  (9.300000000060926, 9.299999999978326)\n"
     ]
    }
   ],
   "source": [
    "a = AddGate()\n",
    "x = 2.5\n",
    "y = 4.7\n",
    "z = a.forward(x, y)\n",
    "dz = 9.3\n",
    "dx_dy_1 = a.backward(dz)\n",
    "print(\"dx_dy_1: \", dx_dy_1)\n",
    "theta = 0.0001\n",
    "dx_2 = dz*((a.forward(x+theta, y)-a.forward(x-theta, y))/(2*theta))\n",
    "dy_2 = dz*((a.forward(x, y+theta)-a.forward(x, y-theta))/(2*theta))\n",
    "print(\"dx_dy_2: \", (dx_2, dy_2))"
   ]
  },
  {
   "cell_type": "markdown",
   "metadata": {},
   "source": [
    "#### Multiply Gate\n",
    "<img src=\"./images/MultiplyGate.jpg\" width=\"30%\" align=center />"
   ]
  },
  {
   "cell_type": "code",
   "execution_count": 4,
   "metadata": {},
   "outputs": [],
   "source": [
    "class MultiplyGate(object):\n",
    "    \n",
    "    def __init__(self, name=None):\n",
    "        self.name = name\n",
    "        pass\n",
    "    \n",
    "    def forward(self, x, y):\n",
    "        z = x*y\n",
    "        self.__x = x\n",
    "        self.__y = y\n",
    "        return z\n",
    "    \n",
    "    def backward(self, dz):\n",
    "        dx = self.__y * dz\n",
    "        dy = self.__x * dz\n",
    "        return dx, dy\n",
    "    \n",
    "    pass"
   ]
  },
  {
   "cell_type": "markdown",
   "metadata": {},
   "source": [
    "#### Gradient Test"
   ]
  },
  {
   "cell_type": "code",
   "execution_count": 5,
   "metadata": {},
   "outputs": [
    {
     "name": "stdout",
     "output_type": "stream",
     "text": [
      "dx_dy_1:  (43.71000000000001, 23.25)\n",
      "dx_dy_2:  (43.71000000007985, 23.249999999945814)\n"
     ]
    }
   ],
   "source": [
    "m = MultiplyGate()\n",
    "x = 2.5\n",
    "y = 4.7\n",
    "z = m.forward(x, y)\n",
    "dz = 9.3\n",
    "dx_dy_1 = m.backward(dz)\n",
    "print(\"dx_dy_1: \", dx_dy_1)\n",
    "theta = 0.0001\n",
    "dx_2 = dz*((m.forward(x+theta, y)-m.forward(x-theta, y))/(2*theta))\n",
    "dy_2 = dz*((m.forward(x, y+theta)-m.forward(x, y-theta))/(2*theta))\n",
    "print(\"dx_dy_2: \", (dx_2, dy_2))"
   ]
  },
  {
   "cell_type": "markdown",
   "metadata": {},
   "source": [
    "#### Dot Gate\n",
    "<img src=\"./images/DotGate.jpg\" width=\"75%\" align=center />"
   ]
  },
  {
   "cell_type": "code",
   "execution_count": 6,
   "metadata": {},
   "outputs": [],
   "source": [
    "class DotGate(object):\n",
    "    \n",
    "    def __init__(self, name=None):\n",
    "        self.name = name\n",
    "        pass\n",
    "    \n",
    "    def forward(self, W, X):\n",
    "        Z = np.dot(W, X)\n",
    "        self.__W = W\n",
    "        self.__X = X\n",
    "        return Z\n",
    "    \n",
    "    def backward(self, dZ):\n",
    "        dW = np.dot(dZ, self.__X.T)\n",
    "        dX = np.dot(self.__W.T, dZ)\n",
    "        return dW, dX\n",
    "    \n",
    "    pass"
   ]
  },
  {
   "cell_type": "markdown",
   "metadata": {},
   "source": [
    "#### Gradient Test"
   ]
  },
  {
   "cell_type": "code",
   "execution_count": 7,
   "metadata": {},
   "outputs": [
    {
     "name": "stdout",
     "output_type": "stream",
     "text": [
      "dW_1\n",
      " [[15.38 58.56]\n",
      " [38.13 80.61]]\n",
      "dW_2\n",
      " [[15.38 58.56]\n",
      " [38.13 80.61]]\n",
      "dX_1\n",
      " [[24.17  6.27]\n",
      " [96.45 25.5 ]]\n",
      "dX_2\n",
      " [[24.17  6.27]\n",
      " [96.45 25.5 ]]\n"
     ]
    }
   ],
   "source": [
    "d = DotGate()\n",
    "\n",
    "W = np.array([[1.3, 5.4], \n",
    "             [2.3, 9.1]])\n",
    "\n",
    "X = np.array([[4.3, 0.6], \n",
    "             [7.5, 12.8]])\n",
    "\n",
    "Z = d.forward(W, X)\n",
    "\n",
    "dZ = np.array([[3.2, 2.7], \n",
    "              [8.7, 1.2]])\n",
    "\n",
    "dW_1, dX_1 = d.backward(dZ)\n",
    "\n",
    "theta = 0.0001\n",
    "\n",
    "delta = np.array([[theta, 0], [0, 0]])\n",
    "dw11 = np.sum(dZ*(d.forward(W+delta, X)-d.forward(W-delta, X))/(2*theta))\n",
    "dx11 = np.sum(dZ*(d.forward(W, X+delta)-d.forward(W, X-delta))/(2*theta))\n",
    "\n",
    "delta = np.array([[0, theta], [0, 0]])\n",
    "dw12 = np.sum(dZ*(d.forward(W+delta, X)-d.forward(W-delta, X))/(2*theta))\n",
    "dx12 = np.sum(dZ*(d.forward(W, X+delta)-d.forward(W, X-delta))/(2*theta))\n",
    "\n",
    "delta = np.array([[0, 0], [theta, 0]])\n",
    "dw21 = np.sum(dZ*(d.forward(W+delta, X)-d.forward(W-delta, X))/(2*theta))\n",
    "dx21 = np.sum(dZ*(d.forward(W, X+delta)-d.forward(W, X-delta))/(2*theta))\n",
    "\n",
    "delta = np.array([[0, 0], [0, theta]])\n",
    "dw22 = np.sum(dZ*(d.forward(W+delta, X)-d.forward(W-delta, X))/(2*theta))\n",
    "dx22 = np.sum(dZ*(d.forward(W, X+delta)-d.forward(W, X-delta))/(2*theta))\n",
    "\n",
    "dW_2 = np.array([[dw11, dw12], [dw21, dw22]])\n",
    "dX_2 = np.array([[dx11, dx12], [dx21, dx22]])\n",
    "\n",
    "print(\"dW_1\\n\", dW_1)\n",
    "print(\"dW_2\\n\", dW_2)\n",
    "print(\"dX_1\\n\", dX_1)\n",
    "print(\"dX_2\\n\", dX_2)"
   ]
  },
  {
   "cell_type": "markdown",
   "metadata": {},
   "source": [
    "#### Bias Gate\n",
    "<img src=\"./images/BiasGate.jpg\" width=\"60%\" align=center />"
   ]
  },
  {
   "cell_type": "code",
   "execution_count": 8,
   "metadata": {},
   "outputs": [],
   "source": [
    "class BiasGate(object):\n",
    "    \n",
    "    def __init__(self, name=None):\n",
    "        self.name = name\n",
    "        pass\n",
    "    \n",
    "    def forward(self, X, b):\n",
    "        self.__X = X\n",
    "        self.__b = b\n",
    "        return np.add(X, b)\n",
    "    \n",
    "    def backward(self, dZ):\n",
    "        db = np.sum(dZ, axis=1, keepdims = True)\n",
    "        dX = dZ\n",
    "        return dX, db\n",
    "    \n",
    "    pass"
   ]
  },
  {
   "cell_type": "markdown",
   "metadata": {},
   "source": [
    "#### Gradient Test"
   ]
  },
  {
   "cell_type": "code",
   "execution_count": 9,
   "metadata": {},
   "outputs": [
    {
     "name": "stdout",
     "output_type": "stream",
     "text": [
      "dX_1: \n",
      " [[ 6.5  1.6]\n",
      " [-5.2  8.7]]\n",
      "dX_2: \n",
      " [[ 6.5  1.6]\n",
      " [-5.2  8.7]]\n",
      "db_1: \n",
      " [[8.1]\n",
      " [3.5]]\n",
      "db_2: \n",
      " [[8.1]\n",
      " [3.5]]\n"
     ]
    }
   ],
   "source": [
    "bg = BiasGate()\n",
    "\n",
    "X = np.array([[2.3, 5.4], \n",
    "              [8.7, 3.2]])\n",
    "\n",
    "b = np.array([[1.3], \n",
    "              [-0.7]])\n",
    "\n",
    "Z = bg.forward(X, b)\n",
    "\n",
    "dZ = np.array([[6.5, 1.6], \n",
    "              [-5.2, 8.7]])\n",
    "\n",
    "dX_1, db_1 = bg.backward(dZ)\n",
    "\n",
    "theta = 0.0001\n",
    "\n",
    "delta = np.array([[theta, 0], \n",
    "                  [0, 0]])\n",
    "dx11 = (dZ*((bg.forward(X+delta, b)-bg.forward(X-delta, b))/(2*theta)))[0][0]\n",
    "delta = np.array([[0, theta], \n",
    "                  [0, 0]])\n",
    "dx12 = (dZ*((bg.forward(X+delta, b)-bg.forward(X-delta, b))/(2*theta)))[0][1]\n",
    "delta = np.array([[0, 0], \n",
    "                  [theta, 0]])\n",
    "dx21 = (dZ*((bg.forward(X+delta, b)-bg.forward(X-delta, b))/(2*theta)))[1][0]\n",
    "delta = np.array([[0, 0], \n",
    "                  [0, theta]])\n",
    "dx22 = (dZ*((bg.forward(X+delta, b)-bg.forward(X-delta, b))/(2*theta)))[1][1]\n",
    "\n",
    "delta = np.array([[theta], \n",
    "                  [0]])\n",
    "db1 = ((np.sum(dZ*((bg.forward(X, b+theta)-bg.forward(X, b-theta))/(2*theta)), axis=1, keepdims = True)))[0][0]\n",
    "\n",
    "delta = np.array([[0], \n",
    "                  [theta]])\n",
    "db2 = ((np.sum(dZ*((bg.forward(X, b+theta)-bg.forward(X, b-theta))/(2*theta)), axis=1, keepdims = True)))[1][0]\n",
    "\n",
    "dX_2 = np.array([[dx11, dx12], \n",
    "                 [dx21, dx22]])\n",
    "\n",
    "db_2 = np.array([[db1], \n",
    "                 [db2]])\n",
    "\n",
    "print(\"dX_1: \\n\", dX_1)\n",
    "print(\"dX_2: \\n\", dX_2)\n",
    "print(\"db_1: \\n\", db_1)\n",
    "print(\"db_2: \\n\", db_2)"
   ]
  },
  {
   "cell_type": "markdown",
   "metadata": {},
   "source": [
    "#### Sigmoid Gate\n",
    "<img src=\"./images/SigmoidGate.jpg\" width=\"75%\" align=center />"
   ]
  },
  {
   "cell_type": "code",
   "execution_count": 10,
   "metadata": {},
   "outputs": [],
   "source": [
    "class SigmoidGate(object):\n",
    "    \n",
    "    def __init__(self, name=None):\n",
    "        self.name = name\n",
    "        pass\n",
    "    \n",
    "    def forward(self, Z):\n",
    "        A = 1 / (1 + np.exp(-np.array(Z)))\n",
    "        self.__A = A\n",
    "        return A\n",
    "\n",
    "    def backward(self, dA):\n",
    "        dZ = dA*self.__A*(1-self.__A)\n",
    "        return dZ\n",
    "    \n",
    "    pass"
   ]
  },
  {
   "cell_type": "code",
   "execution_count": 11,
   "metadata": {},
   "outputs": [
    {
     "data": {
      "text/plain": [
       "[<matplotlib.lines.Line2D at 0x24589323be0>]"
      ]
     },
     "execution_count": 11,
     "metadata": {},
     "output_type": "execute_result"
    },
    {
     "data": {
      "image/png": "[encoded data removed]",
      "text/plain": [
       "<Figure size 432x288 with 1 Axes>"
      ]
     },
     "metadata": {},
     "output_type": "display_data"
    }
   ],
   "source": [
    "s = SigmoidGate()\n",
    "x = np.arange(-10, 10, 0.1)\n",
    "y = s.forward(x)\n",
    "plt.plot(x, y)"
   ]
  },
  {
   "cell_type": "markdown",
   "metadata": {},
   "source": [
    "#### Gradient Test"
   ]
  },
  {
   "cell_type": "code",
   "execution_count": 12,
   "metadata": {},
   "outputs": [
    {
     "name": "stdout",
     "output_type": "stream",
     "text": [
      "dZ_1:  0.1540087363651699\n",
      "dZ_2:  0.15400873624548672\n"
     ]
    }
   ],
   "source": [
    "s = SigmoidGate()\n",
    "Z = 0.3\n",
    "A = s.forward(Z)\n",
    "dA = 0.63\n",
    "dZ_1 = s.backward(dA)\n",
    "\n",
    "theta = 0.0001\n",
    "dZ_2 = dA*((s.forward(Z+theta)-s.forward(Z-theta))/(2*theta))\n",
    "\n",
    "print(\"dZ_1: \", dZ_1)\n",
    "print(\"dZ_2: \", dZ_2)"
   ]
  },
  {
   "cell_type": "markdown",
   "metadata": {},
   "source": [
    "#### Relu Gate\n",
    "<img src=\"./images/ReluGate.jpg\" width=\"40%\" align=center />"
   ]
  },
  {
   "cell_type": "code",
   "execution_count": 13,
   "metadata": {},
   "outputs": [],
   "source": [
    "class ReluGate(object):\n",
    "    \n",
    "    def __init__(self, name=None):\n",
    "        self.name = name\n",
    "        pass\n",
    "    \n",
    "    def forward(self, Z):\n",
    "        self.__A = np.maximum(Z, 0)\n",
    "        return self.__A\n",
    "    \n",
    "    def backward(self, dA):\n",
    "        dZ = np.multiply(dA, np.float32(self.__A > 0))\n",
    "        return dZ\n",
    "     \n",
    "    pass"
   ]
  },
  {
   "cell_type": "code",
   "execution_count": 14,
   "metadata": {},
   "outputs": [
    {
     "data": {
      "text/plain": [
       "[<matplotlib.lines.Line2D at 0x2458961dcf8>]"
      ]
     },
     "execution_count": 14,
     "metadata": {},
     "output_type": "execute_result"
    },
    {
     "data": {
      "image/png": "[encoded data removed]",
      "text/plain": [
       "<Figure size 432x288 with 1 Axes>"
      ]
     },
     "metadata": {},
     "output_type": "display_data"
    }
   ],
   "source": [
    "r = ReluGate()\n",
    "x = np.arange(-10, 10, 0.1)\n",
    "y = r.forward(x)\n",
    "plt.plot(x, y)"
   ]
  },
  {
   "cell_type": "markdown",
   "metadata": {},
   "source": [
    "#### Gradient Test"
   ]
  },
  {
   "cell_type": "code",
   "execution_count": 15,
   "metadata": {},
   "outputs": [
    {
     "name": "stdout",
     "output_type": "stream",
     "text": [
      "dZ_1:  0.63\n",
      "dZ_2:  0.6299999999999306\n"
     ]
    }
   ],
   "source": [
    "r = ReluGate()\n",
    "Z = 0.3\n",
    "A = r.forward(Z)\n",
    "dA = 0.63\n",
    "dZ_1 = r.backward(dA)\n",
    "\n",
    "theta = 0.0001\n",
    "dZ_2 = dA*((r.forward(Z+theta)-r.forward(Z-theta))/(2*theta))\n",
    "\n",
    "print(\"dZ_1: \", dZ_1)\n",
    "print(\"dZ_2: \", dZ_2)"
   ]
  },
  {
   "cell_type": "code",
   "execution_count": 16,
   "metadata": {},
   "outputs": [
    {
     "name": "stdout",
     "output_type": "stream",
     "text": [
      "dZ_1:  0.0\n",
      "dZ_2:  0.0\n"
     ]
    }
   ],
   "source": [
    "r = ReluGate()\n",
    "Z = -0.3\n",
    "A = r.forward(Z)\n",
    "dA = 0.63\n",
    "dZ_1 = r.backward(dA)\n",
    "\n",
    "theta = 0.0001\n",
    "dZ_2 = dA*((r.forward(Z+theta)-r.forward(Z-theta))/(2*theta))\n",
    "\n",
    "print(\"dZ_1: \", dZ_1)\n",
    "print(\"dZ_2: \", dZ_2)"
   ]
  },
  {
   "cell_type": "markdown",
   "metadata": {},
   "source": [
    "#### Softmax Gate\n",
    "<img src=\"./images/SoftmaxGate.jpg\" width=\"50%\" align=center />"
   ]
  },
  {
   "cell_type": "code",
   "execution_count": 17,
   "metadata": {},
   "outputs": [],
   "source": [
    "class SoftmaxGate(object):\n",
    "    \n",
    "    def __init__(self, name=None):\n",
    "        self.name = name\n",
    "        pass\n",
    "    \n",
    "    def forward(self, X):\n",
    "        Y = np.array(np.exp(X)/np.sum(np.exp(X), axis=0))\n",
    "        self.__X = X\n",
    "        self.__Y = Y\n",
    "        return Y\n",
    "    \n",
    "    def backward(self, dY):\n",
    "        n, m = dY.shape\n",
    "        temp = np.sum(self.__Y*dY, axis=0)\n",
    "        dX = np.array([[self.__Y[k][i]*(dY[k][i]-temp[i]) \\\n",
    "                        for k in range(n)] for i in range(m)])\n",
    "        dX = dX.T\n",
    "        return dX\n",
    "    \n",
    "    pass"
   ]
  },
  {
   "cell_type": "markdown",
   "metadata": {},
   "source": [
    "#### Gradient Test"
   ]
  },
  {
   "cell_type": "code",
   "execution_count": 18,
   "metadata": {},
   "outputs": [
    {
     "name": "stdout",
     "output_type": "stream",
     "text": [
      "Y: \n",
      " [[0.01228717 0.82671352]\n",
      " [0.08215074 0.11188351]\n",
      " [0.90556209 0.06140297]]\n",
      "dX_1: \n",
      " [[ 0.15152633 -1.27746411]\n",
      " [ 0.99665889  1.16971613]\n",
      " [-1.14818522  0.10774797]]\n",
      "dX_2: \n",
      " [[ 0.15152633 -1.27746411]\n",
      " [ 0.99665889  1.16971613]\n",
      " [-1.14818522  0.10774798]]\n"
     ]
    }
   ],
   "source": [
    "s = SoftmaxGate()\n",
    "X = np.array([[1.3, 4.3], \n",
    "              [3.2, 2.3], \n",
    "              [5.6, 1.7]])\n",
    "Y = s.forward(X)\n",
    "print(\"Y: \\n\", Y)\n",
    "dY = np.array([[1.4, -2.8], \n",
    "               [1.2, 9.2], \n",
    "               [-12.2, 0.5]])\n",
    "dX_1 = s.backward(dY)\n",
    "print(\"dX_1: \\n\", dX_1)\n",
    "\n",
    "theta = 0.0001\n",
    "delta = np.array([[theta, 0], \n",
    "                  [0, 0], \n",
    "                  [0, 0]])\n",
    "dx_1_1 = np.sum(dY*((s.forward(X+delta)-s.forward(X-delta))/(2*theta)))\n",
    "delta = np.array([[0, 0], \n",
    "                  [theta, 0], \n",
    "                  [0, 0]])\n",
    "dx_1_2 = np.sum(dY*((s.forward(X+delta)-s.forward(X-delta))/(2*theta)))\n",
    "delta = np.array([[0, 0], \n",
    "                  [0, 0], \n",
    "                  [theta, 0]])\n",
    "dx_1_3 = np.sum(dY*((s.forward(X+delta)-s.forward(X-delta))/(2*theta)))\n",
    "delta = np.array([[0, theta], \n",
    "                  [0, 0], \n",
    "                  [0, 0]])\n",
    "dx_2_1 = np.sum(dY*((s.forward(X+delta)-s.forward(X-delta))/(2*theta)))\n",
    "delta = np.array([[0, 0], \n",
    "                  [0, theta], \n",
    "                  [0, 0]])\n",
    "dx_2_2 = np.sum(dY*((s.forward(X+delta)-s.forward(X-delta))/(2*theta)))\n",
    "delta = np.array([[0, 0], \n",
    "                  [0, 0], \n",
    "                  [0, theta]])\n",
    "dx_2_3 = np.sum(dY*((s.forward(X+delta)-s.forward(X-delta))/(2*theta)))\n",
    "\n",
    "dX_2 = np.array([[dx_1_1, dx_2_1],  \n",
    "                 [dx_1_2, dx_2_2], \n",
    "                 [dx_1_3, dx_2_3]])\n",
    "print(\"dX_2: \\n\", dX_2)"
   ]
  },
  {
   "cell_type": "code",
   "execution_count": null,
   "metadata": {},
   "outputs": [],
   "source": []
  }
 ],
 "metadata": {
  "kernelspec": {
   "display_name": "Python 3",
   "language": "python",
   "name": "python3"
  },
  "language_info": {
   "codemirror_mode": {
    "name": "ipython",
    "version": 3
   },
   "file_extension": ".py",
   "mimetype": "text/x-python",
   "name": "python",
   "nbconvert_exporter": "python",
   "pygments_lexer": "ipython3",
   "version": "3.6.5"
  }
 },
 "nbformat": 4,
 "nbformat_minor": 2
}
